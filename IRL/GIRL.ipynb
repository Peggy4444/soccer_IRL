{
 "cells": [
  {
   "cell_type": "code",
   "execution_count": null,
   "id": "material-hobby",
   "metadata": {},
   "outputs": [],
   "source": [
    "import numpy as np\n",
    "from qpsolvers import solve_qp\n",
    "from scipy import linalg\n",
    "from scipy import optimize\n",
    "import scipy\n",
    "from tqdm import tqdm\n",
    "import scipy.linalg as scila\n",
    "import argparse"
   ]
  },
  {
   "cell_type": "code",
   "execution_count": null,
   "id": "japanese-terror",
   "metadata": {},
   "outputs": [],
   "source": [
    "if __name__ == '__main__':\n",
    "    parser = argparse.ArgumentParser()\n",
    "    parser.add_argument('--gamma', type=float, default=0.99, help='discount factor')\n",
    "    args = parser.parse_args()"
   ]
  },
  {
   "cell_type": "code",
   "execution_count": null,
   "id": "final-abuse",
   "metadata": {},
   "outputs": [],
   "source": [
    "path_to_add = os.path.dirname(os.path.abspath(__file__)) + '/..'\n",
    "sys.path = [path_to_add] + sys.path\n",
    "\n",
    "directory= 'soccer_dataset/'"
   ]
  },
  {
   "cell_type": "code",
   "execution_count": null,
   "id": "wrapped-circular",
   "metadata": {},
   "outputs": [],
   "source": [
    "df_rew_features= pd.read_excel(directory + 'df_rew_features.xlsx')"
   ]
  },
  {
   "cell_type": "code",
   "execution_count": null,
   "id": "golden-faith",
   "metadata": {},
   "outputs": [],
   "source": [
    "reward_features_df= df_rew_features[['bayern_rank_inverse','opponent_rank_inverse', 'bayern_side_id', 'goal_diff', 'norm_time_remaining', 'player_market_value' ]]\n"
   ]
  },
  {
   "cell_type": "code",
   "execution_count": null,
   "id": "royal-continent",
   "metadata": {},
   "outputs": [],
   "source": [
    "reward_features_array= reward_features_df.to_numpy()"
   ]
  },
  {
   "cell_type": "code",
   "execution_count": null,
   "id": "fatal-january",
   "metadata": {},
   "outputs": [],
   "source": [
    "# Feature expectation"
   ]
  },
  {
   "cell_type": "code",
   "execution_count": 1,
   "id": "promising-firewall",
   "metadata": {},
   "outputs": [],
   "source": [
    "GAMMA = args.gamma\n",
    "def feature_expectations(reward_features_array, GAMMA):\n",
    "    discount_factor_timestep = np.power(GAMMA * np.ones(reward_features_array.shape[0]),\n",
    "                                        range(reward_features_array.shape[0]))\n",
    "    discounted_return = discount_factor_timestep[np.newaxis, :, np.newaxis] * reward_features_array\n",
    "    reward_est_timestep = np.sum(discounted_return, axis=1)\n",
    "    return reward_est_timestep"
   ]
  },
  {
   "cell_type": "code",
   "execution_count": 2,
   "id": "dependent-geneva",
   "metadata": {},
   "outputs": [],
   "source": [
    "# import gradients"
   ]
  },
  {
   "cell_type": "code",
   "execution_count": null,
   "id": "ecological-steam",
   "metadata": {},
   "outputs": [],
   "source": [
    "gradients_df= pd.read_excel(directory + 'gradients_df.xlsx')\n",
    "gradients_arr= gradients_df.to_numpy()\n",
    "mean_gradients = np.mean(gradients_arr, axis=0)\n"
   ]
  },
  {
   "cell_type": "code",
   "execution_count": null,
   "id": "frequent-dining",
   "metadata": {},
   "outputs": [],
   "source": [
    "# compute psi: feature expectation * gradients"
   ]
  },
  {
   "cell_type": "code",
   "execution_count": null,
   "id": "grand-modeling",
   "metadata": {},
   "outputs": [],
   "source": [
    "mean_gradients= mean_gradients.reshape(4,1)\n",
    "psi= np.dot(mean_gradients,reward_feature_vector)\n"
   ]
  },
  {
   "cell_type": "code",
   "execution_count": 3,
   "id": "emotional-device",
   "metadata": {},
   "outputs": [],
   "source": [
    "# recover feature weights: omegas, and compute IRL loss"
   ]
  },
  {
   "cell_type": "code",
   "execution_count": 4,
   "id": "charged-candle",
   "metadata": {},
   "outputs": [],
   "source": [
    "#taken from the paper: Truly Batch Model-Free Inverse Reinforcement Learning about Multiple Intentions: http://proceedings.mlr.press/v108/ramponi20a/ramponi20a.pdf "
   ]
  },
  {
   "cell_type": "code",
   "execution_count": 5,
   "id": "annoying-religious",
   "metadata": {},
   "outputs": [],
   "source": [
    "def solve_PGIRL(estimated_gradients, verbose=False, solver='quadprog', seed=1234,):\n",
    "    num_episodes, num_parameters, num_objectives = estimated_gradients.shape[:]\n",
    "    mean_gradients = np.mean(estimated_gradients, axis=0)\n",
    "    ns = scipy.linalg.null_space(mean_gradients)\n",
    "    P = np.dot(mean_gradients.T, mean_gradients)\n",
    "    if ns.shape[1] > 0:\n",
    "        if (ns >= 0).all() or (ns <= 0).all():\n",
    "\n",
    "            print(\"Jacobian has a null space:\", ns[:, 0] / np.sum(ns[:, 0]))\n",
    "            weights = ns[:, 0] / np.sum(ns[:, 0])\n",
    "            loss = np.dot(np.dot(weights.T, P), weights)\n",
    "            return weights, loss\n",
    "        else:\n",
    "            weights = solve_polyhedra(ns)\n",
    "            print(\"Null space:\", ns)\n",
    "            if weights is not None and (weights!=0).any():\n",
    "                print(\"Linear programming sol:\", weights)\n",
    "                weights = np.dot(ns, weights.T)\n",
    "                weights = weights / np.sum(weights)\n",
    "                loss = np.dot(np.dot(weights.T, P), weights)\n",
    "                print(\"Weights from non positive null space:\", weights)\n",
    "                return weights, loss\n",
    "            else:\n",
    "                print(\"Linear prog did not find positive weights\")\n",
    "\n",
    "    q = np.zeros(num_objectives)\n",
    "    A = np.ones((num_objectives, num_objectives))\n",
    "    b = np.ones(num_objectives)\n",
    "    G = np.diag(np.diag(A))\n",
    "    h = np.zeros(num_objectives)\n",
    "    normalized_P = P / np.linalg.norm(P)\n",
    "    try:\n",
    "        weights = solve_qp(P, q, -G, h, A=A, b=b, solver=solver)\n",
    "    except ValueError:\n",
    "        try:\n",
    "            weights = solve_qp(normalized_P, q, -G, h, A=A, b=b, solver=solver)\n",
    "        except:\n",
    "            #normalize matrix\n",
    "\n",
    "            print(\"Error in Girl\")\n",
    "            print(P)\n",
    "            print(normalized_P)\n",
    "            u, s, v = np.linalg.svd(P)\n",
    "            print(\"Singular Values:\", s)\n",
    "            ns = scipy.linalg.null_space(mean_gradients)\n",
    "            print(\"Null space:\", ns)\n",
    "\n",
    "            weights, loss = solve_girl_approx(P, seed=seed)\n",
    "    loss = np.dot(np.dot(weights.T, P), weights)\n",
    "    if verbose:\n",
    "        print('loss:', loss)\n",
    "        print(weights)\n",
    "    return weights, loss"
   ]
  }
 ],
 "metadata": {
  "kernelspec": {
   "display_name": "Python 3",
   "language": "python",
   "name": "python3"
  },
  "language_info": {
   "codemirror_mode": {
    "name": "ipython",
    "version": 3
   },
   "file_extension": ".py",
   "mimetype": "text/x-python",
   "name": "python",
   "nbconvert_exporter": "python",
   "pygments_lexer": "ipython3",
   "version": "3.7.6"
  }
 },
 "nbformat": 4,
 "nbformat_minor": 5
}
